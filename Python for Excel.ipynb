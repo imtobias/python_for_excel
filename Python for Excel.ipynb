{
 "cells": [
  {
   "cell_type": "markdown",
   "metadata": {},
   "source": [
    "## Read with openpyxl"
   ]
  },
  {
   "cell_type": "code",
   "execution_count": 1,
   "metadata": {},
   "outputs": [],
   "source": [
    "import pandas as pd\n",
    "import openpyxl\n",
    "import excel\n",
    "import datetime as dt"
   ]
  },
  {
   "cell_type": "code",
   "execution_count": 2,
   "metadata": {},
   "outputs": [],
   "source": [
    "book = openpyxl.load_workbook(\"xl/stores.xlsx\", data_only=True)"
   ]
  },
  {
   "cell_type": "code",
   "execution_count": 3,
   "metadata": {},
   "outputs": [],
   "source": [
    "sheet = book['2019']"
   ]
  },
  {
   "cell_type": "code",
   "execution_count": 13,
   "metadata": {},
   "outputs": [
    {
     "data": {
      "text/plain": [
       "'Boston'"
      ]
     },
     "execution_count": 13,
     "metadata": {},
     "output_type": "execute_result"
    }
   ],
   "source": [
    "sheet.cell(row=6,column=2).value"
   ]
  },
  {
   "cell_type": "code",
   "execution_count": 22,
   "metadata": {},
   "outputs": [
    {
     "data": {
      "text/plain": [
       "[['Store', 'Employees', 'Manager', 'Since', 'Flagship'],\n",
       " ['New York', 10, 'Sarah', datetime.datetime(2018, 7, 20, 0, 0), False]]"
      ]
     },
     "execution_count": 22,
     "metadata": {},
     "output_type": "execute_result"
    }
   ],
   "source": [
    "data = excel.read(book['2019'],(2,2),(8,6))\n",
    "data[:2]"
   ]
  },
  {
   "cell_type": "markdown",
   "metadata": {},
   "source": [
    "## Write with openpyxl"
   ]
  },
  {
   "cell_type": "code",
   "execution_count": 2,
   "metadata": {},
   "outputs": [],
   "source": [
    "import openpyxl\n",
    "from openpyxl.drawing.image import Image\n",
    "from openpyxl.chart import BarChart, Reference\n",
    "from openpyxl.styles import Font, colors\n",
    "from openpyxl.styles.borders import Border, Side\n",
    "from openpyxl.styles.alignment import Alignment\n",
    "from openpyxl.styles.fills import PatternFill\n",
    "import excel"
   ]
  },
  {
   "cell_type": "code",
   "execution_count": 3,
   "metadata": {},
   "outputs": [],
   "source": [
    "book = openpyxl.Workbook()"
   ]
  },
  {
   "cell_type": "code",
   "execution_count": 20,
   "metadata": {},
   "outputs": [
    {
     "name": "stdout",
     "output_type": "stream",
     "text": [
      "Wall time: 42 ms\n"
     ]
    }
   ],
   "source": [
    "%%time\n",
    "#make a sheet\n",
    "sheet = book.active\n",
    "sheet.title = \"Sheet1\"\n",
    "\n",
    "#two ways to assign cell values\n",
    "sheet['A1'].value = 'Hello 1'\n",
    "sheet.cell(row=2,column=1, value='Hello 2')\n",
    "\n",
    "#format\n",
    "font_format = Font(color='FF0000', bold=True)\n",
    "thin = Side(border_style='thin', color='FF0000')\n",
    "sheet['A3'].value = 'Hello 3'\n",
    "sheet['A3'].font = font_format\n",
    "sheet['A3'].border = Border(top=thin,left=thin,right=thin,bottom=thin)\n",
    "sheet['A3'].alignment = Alignment(horizontal='center')\n",
    "sheet['A3'].fill = PatternFill(fgColor='FFFF00', fill_type='solid')\n",
    "\n",
    "#number format\n",
    "sheet['A4'].value = 3.335\n",
    "sheet['A4'].number_format = '0.00'\n",
    "\n",
    "#date format\n",
    "sheet['A5'].value = dt.date(2016,10,13)\n",
    "sheet['A5'].number_format = 'mm/dd/yy'\n",
    "\n",
    "#use Excel formula\n",
    "sheet['A6'].value = '=SUM(A4, 2)'\n",
    "\n",
    "# #image\n",
    "# sheet.add_image(Image(\"images/python.png\"), \"C1\")\n",
    "\n",
    "#2D list\n",
    "data = [\n",
    "    [None,'North','South'],\n",
    "    ['Last year',2,5],\n",
    "    ['This year',3,6]\n",
    "]\n",
    "excel.write(sheet,data,'A10')\n",
    "\n",
    "#chart\n",
    "chart = BarChart()\n",
    "chart.type = 'col'\n",
    "chart.title = 'Sales per region'\n",
    "chart.x_axis.title = 'Regions'\n",
    "chart.y_axis.title = 'Sales'\n",
    "chart_data = Reference(sheet, min_row=11, min_col=1, max_row=12, max_col=3)\n",
    "chart_categories = Reference(sheet, min_row=10, min_col=2, max_row=10, max_col=3)\n",
    "\n",
    "chart.add_data(chart_data, titles_from_data=True, from_rows=True)\n",
    "chart.set_categories(chart_categories)\n",
    "sheet.add_chart(chart, 'A15')\n",
    "\n",
    "book.save('openpyxl.xlsx')"
   ]
  },
  {
   "cell_type": "code",
   "execution_count": null,
   "metadata": {},
   "outputs": [],
   "source": [
    "#make a template\n",
    "book = openpyxl.Workbook()\n",
    "sheet = book.active\n",
    "sheet['A1'].value = 'This is a template'\n",
    "book.template = True\n",
    "book.save('template.xltx')"
   ]
  },
  {
   "cell_type": "code",
   "execution_count": 22,
   "metadata": {},
   "outputs": [],
   "source": [
    "with pd.ExcelFile(\"xl/stores.xlsx\", engine=\"openpyxl\") as xlfile:\n",
    "    df = pd.read_excel(xlfile, sheet_name='2020')\n",
    "    book = xlfile.book\n",
    "    sheet = book['2019']\n",
    "    value = sheet['B3'].value"
   ]
  },
  {
   "cell_type": "code",
   "execution_count": 34,
   "metadata": {},
   "outputs": [],
   "source": [
    "with pd.ExcelWriter(\"pandas_and_openpyxl.xlsx\",\n",
    " engine=\"openpyxl\") as writer:\n",
    "    df = pd.DataFrame({\"col1\": [1, 2, 3, 4], \"col2\": [5, 6, 7, 8]})\n",
    "    # Write a DataFrame\n",
    "    df.to_excel(writer, \"Sheet1\", startrow=1, startcol=0)\n",
    "    # Get the OpenPyXL workbook and sheet objects\n",
    "    book = writer.book\n",
    "    sheet = writer.sheets[\"Sheet1\"]\n",
    "    # From here on, it's OpenPyXL code\n",
    "    sheet[\"A1\"].value = \"This is a Title\" # Write a single cell value"
   ]
  },
  {
   "cell_type": "markdown",
   "metadata": {},
   "source": [
    "## xlwings"
   ]
  },
  {
   "cell_type": "code",
   "execution_count": 35,
   "metadata": {},
   "outputs": [],
   "source": [
    "import datetime as dt\n",
    "import xlwings as xw\n",
    "import pandas as pd\n",
    "import numpy as np"
   ]
  },
  {
   "cell_type": "code",
   "execution_count": 39,
   "metadata": {},
   "outputs": [],
   "source": [
    "df = pd.DataFrame(data=np.random.randn(100, 5),\n",
    " columns=[f\"Trial {i}\" for i in range(1, 6)])\n",
    "#open a dataframe in Excel\n",
    "xw.view(df)"
   ]
  },
  {
   "cell_type": "code",
   "execution_count": 42,
   "metadata": {},
   "outputs": [
    {
     "data": {
      "text/plain": [
       "'Book1'"
      ]
     },
     "execution_count": 42,
     "metadata": {},
     "output_type": "execute_result"
    }
   ],
   "source": [
    "book = xw.Book()\n",
    "book.name"
   ]
  },
  {
   "cell_type": "code",
   "execution_count": 45,
   "metadata": {},
   "outputs": [],
   "source": [
    "sheet1 = book.sheets[0]"
   ]
  },
  {
   "cell_type": "code",
   "execution_count": 54,
   "metadata": {},
   "outputs": [],
   "source": [
    "sheet1.range('A1').value = [[1,2],[3,4]]\n",
    "sheet1.range('a4').value = 'Hello!'"
   ]
  },
  {
   "cell_type": "code",
   "execution_count": 55,
   "metadata": {},
   "outputs": [
    {
     "data": {
      "text/plain": [
       "'Hello!'"
      ]
     },
     "execution_count": 55,
     "metadata": {},
     "output_type": "execute_result"
    }
   ],
   "source": [
    "sheet1.range('a1:b2').value\n",
    "sheet1.range('a4').value"
   ]
  }
 ],
 "metadata": {
  "kernelspec": {
   "display_name": "Python 3",
   "language": "python",
   "name": "python3"
  },
  "language_info": {
   "codemirror_mode": {
    "name": "ipython",
    "version": 3
   },
   "file_extension": ".py",
   "mimetype": "text/x-python",
   "name": "python",
   "nbconvert_exporter": "python",
   "pygments_lexer": "ipython3",
   "version": "3.7.7"
  }
 },
 "nbformat": 4,
 "nbformat_minor": 4
}
